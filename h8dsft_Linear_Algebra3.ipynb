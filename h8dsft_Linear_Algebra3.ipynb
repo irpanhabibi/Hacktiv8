{
 "cells": [
  {
   "cell_type": "markdown",
   "id": "aad5f017",
   "metadata": {},
   "source": [
    "# Non-Graded Challenge 6"
   ]
  },
  {
   "cell_type": "code",
   "execution_count": 1,
   "id": "42503eb9",
   "metadata": {},
   "outputs": [],
   "source": [
    "import numpy as np"
   ]
  },
  {
   "cell_type": "markdown",
   "id": "d3368785",
   "metadata": {},
   "source": [
    "**Soal No 1.**"
   ]
  },
  {
   "cell_type": "code",
   "execution_count": 15,
   "id": "d76067da",
   "metadata": {},
   "outputs": [
    {
     "name": "stdout",
     "output_type": "stream",
     "text": [
      "[1 3]\n"
     ]
    }
   ],
   "source": [
    "eigVec_x = np.array([1,3])\n",
    "print(eigVec_x)"
   ]
  },
  {
   "cell_type": "code",
   "execution_count": 17,
   "id": "57e96c24",
   "metadata": {},
   "outputs": [
    {
     "data": {
      "text/plain": [
       "(2,)"
      ]
     },
     "execution_count": 17,
     "metadata": {},
     "output_type": "execute_result"
    }
   ],
   "source": [
    "eigVec_x.shape"
   ]
  },
  {
   "cell_type": "code",
   "execution_count": 9,
   "id": "419125b0",
   "metadata": {
    "scrolled": true
   },
   "outputs": [
    {
     "name": "stdout",
     "output_type": "stream",
     "text": [
      "[[ 1 -1]\n",
      " [ 6  4]]\n"
     ]
    }
   ],
   "source": [
    "A = np.array([[1,-1],[6,4]])\n",
    "print(A)"
   ]
  },
  {
   "cell_type": "code",
   "execution_count": 18,
   "id": "81c06c38",
   "metadata": {},
   "outputs": [
    {
     "data": {
      "text/plain": [
       "(2, 2)"
      ]
     },
     "execution_count": 18,
     "metadata": {},
     "output_type": "execute_result"
    }
   ],
   "source": [
    "A.shape"
   ]
  },
  {
   "cell_type": "code",
   "execution_count": 20,
   "id": "d20ba259",
   "metadata": {},
   "outputs": [
    {
     "name": "stdout",
     "output_type": "stream",
     "text": [
      "[-2 18]\n"
     ]
    }
   ],
   "source": [
    "B = A@eigVec_x\n",
    "print(B)"
   ]
  },
  {
   "cell_type": "code",
   "execution_count": 21,
   "id": "130e2135",
   "metadata": {},
   "outputs": [
    {
     "data": {
      "text/plain": [
       "array([-2.,  6.])"
      ]
     },
     "execution_count": 21,
     "metadata": {},
     "output_type": "execute_result"
    }
   ],
   "source": [
    "B/eigVec_x"
   ]
  },
  {
   "cell_type": "markdown",
   "id": "2c4cc0f2",
   "metadata": {},
   "source": [
    "Karena [1 3] bukan eigen vector dari matrix A, maka eigen value tidak dicari"
   ]
  },
  {
   "cell_type": "code",
   "execution_count": null,
   "id": "c3cada22",
   "metadata": {},
   "outputs": [],
   "source": []
  }
 ],
 "metadata": {
  "kernelspec": {
   "display_name": "Python 3 (ipykernel)",
   "language": "python",
   "name": "python3"
  },
  "language_info": {
   "codemirror_mode": {
    "name": "ipython",
    "version": 3
   },
   "file_extension": ".py",
   "mimetype": "text/x-python",
   "name": "python",
   "nbconvert_exporter": "python",
   "pygments_lexer": "ipython3",
   "version": "3.8.11"
  }
 },
 "nbformat": 4,
 "nbformat_minor": 5
}
