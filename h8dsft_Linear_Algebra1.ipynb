{
 "cells": [
  {
   "cell_type": "markdown",
   "id": "678ac015",
   "metadata": {},
   "source": [
    "# Non-Graded Challenge 4"
   ]
  },
  {
   "cell_type": "code",
   "execution_count": 51,
   "id": "f154e95c",
   "metadata": {},
   "outputs": [],
   "source": [
    "import numpy as np"
   ]
  },
  {
   "cell_type": "markdown",
   "id": "6f64347a",
   "metadata": {},
   "source": [
    "**Soal 1**"
   ]
  },
  {
   "cell_type": "code",
   "execution_count": 52,
   "id": "471ff276",
   "metadata": {},
   "outputs": [
    {
     "name": "stdout",
     "output_type": "stream",
     "text": [
      "[17 22 19]\n"
     ]
    }
   ],
   "source": [
    "a = np.array([17,22,19])\n",
    "print(a)"
   ]
  },
  {
   "cell_type": "markdown",
   "id": "09ada1a7",
   "metadata": {},
   "source": [
    "**Soal 2**"
   ]
  },
  {
   "cell_type": "code",
   "execution_count": 53,
   "id": "11c084fd",
   "metadata": {},
   "outputs": [
    {
     "name": "stdout",
     "output_type": "stream",
     "text": [
      "[17 22 19] [10 20 11] [ 5 12  9]\n"
     ]
    }
   ],
   "source": [
    "A = np.array([17,22,19])\n",
    "B = np.array([10,20,11])\n",
    "C = np.array ([5,12,9])\n",
    "print(A,B,C)"
   ]
  },
  {
   "cell_type": "code",
   "execution_count": 54,
   "id": "cffbcf48",
   "metadata": {},
   "outputs": [
    {
     "name": "stdout",
     "output_type": "stream",
     "text": [
      "A + B : [27 42 30] \n",
      "\n",
      "B - C : [5 8 2] \n",
      "\n",
      "A dot C : 520 \n",
      "\n",
      "A x B : [170 440 209] \n",
      "\n",
      "norm A : 33.67491648096547 \n",
      "\n",
      "Sudut antara A dan B : 0.21971776576153962\n"
     ]
    }
   ],
   "source": [
    "#A + B\n",
    "Add = A+B\n",
    "print('A + B :', Add, '\\n')\n",
    "\n",
    "#B - C\n",
    "Substracted = B-C\n",
    "print('B - C :', Substracted, '\\n')\n",
    "\n",
    "#A dot C\n",
    "A_dot_C = A.dot(C)\n",
    "print('A dot C :' , A_dot_C, '\\n')\n",
    "\n",
    "#A x B\n",
    "Mult = A*B\n",
    "print('A x B :', Mult, '\\n')\n",
    "\n",
    "#norm A\n",
    "norm_A = np.linalg.norm(A)\n",
    "print('norm A :', norm_A, '\\n')\n",
    "\n",
    "#sudut antara vector A dan B\n",
    "norm_B = np.linalg.norm(B)\n",
    "\n",
    "cosine = (A@B)/(np.linalg.norm(A)*np.linalg.norm(B))\n",
    "\n",
    "sudut = np.arccos(cosine)\n",
    "print('Sudut antara A dan B :', sudut)"
   ]
  },
  {
   "cell_type": "markdown",
   "id": "fc4903d1",
   "metadata": {},
   "source": [
    "**Soal 3**"
   ]
  },
  {
   "cell_type": "code",
   "execution_count": 55,
   "id": "2591957d",
   "metadata": {},
   "outputs": [],
   "source": [
    "%matplotlib inline\n",
    "import matplotlib.pyplot as plt"
   ]
  },
  {
   "cell_type": "code",
   "execution_count": 56,
   "id": "4539b2f0",
   "metadata": {},
   "outputs": [],
   "source": [
    "#karena value vektor pada soal sama seperti di maodul, maka value diganti dengan yang baru biar asik\n",
    "\n",
    "u = np.array([5,3])\n",
    "v = np.array([4,6])"
   ]
  },
  {
   "cell_type": "code",
   "execution_count": 57,
   "id": "1e1c3dce",
   "metadata": {},
   "outputs": [
    {
     "data": {
      "image/png": "[encoded data removed]",
      "text/plain": [
       "<Figure size 432x288 with 1 Axes>"
      ]
     },
     "metadata": {
      "needs_background": "light"
     },
     "output_type": "display_data"
    }
   ],
   "source": [
    "x_coords, y_coords = zip(u, v)\n",
    "plt.scatter(x_coords, y_coords, color=[\"r\",\"b\"])\n",
    "plt.axis([0, 10, 0, 8])\n",
    "plt.grid()\n",
    "plt.show()"
   ]
  },
  {
   "cell_type": "code",
   "execution_count": 58,
   "id": "888ee241",
   "metadata": {},
   "outputs": [],
   "source": [
    "def plot_vector2d(vector2d, origin=[0, 0], **options):\n",
    "    return plt.arrow(origin[0], origin[1], vector2d[0], vector2d[1],\n",
    "              head_width=0.2, head_length=0.3, length_includes_head=True,\n",
    "              **options)"
   ]
  },
  {
   "cell_type": "code",
   "execution_count": 59,
   "id": "d6e6652a",
   "metadata": {},
   "outputs": [
    {
     "data": {
      "image/png": "[encoded data removed]",
      "text/plain": [
       "<Figure size 432x288 with 1 Axes>"
      ]
     },
     "metadata": {
      "needs_background": "light"
     },
     "output_type": "display_data"
    }
   ],
   "source": [
    "plot_vector2d(u, color=\"r\")\n",
    "plot_vector2d(v, color=\"b\")\n",
    "plt.axis([0, 9, 0, 6])\n",
    "plt.grid()\n",
    "plt.show()"
   ]
  }
 ],
 "metadata": {
  "kernelspec": {
   "display_name": "Python 3 (ipykernel)",
   "language": "python",
   "name": "python3"
  },
  "language_info": {
   "codemirror_mode": {
    "name": "ipython",
    "version": 3
   },
   "file_extension": ".py",
   "mimetype": "text/x-python",
   "name": "python",
   "nbconvert_exporter": "python",
   "pygments_lexer": "ipython3",
   "version": "3.8.11"
  }
 },
 "nbformat": 4,
 "nbformat_minor": 5
}
