{
 "cells": [
  {
   "cell_type": "markdown",
   "id": "3f9ae899",
   "metadata": {},
   "source": [
    "# Non-Graded Challenge 8"
   ]
  },
  {
   "cell_type": "markdown",
   "id": "f024cd2c",
   "metadata": {},
   "source": [
    "**Problems**\n",
    "\n",
    "Carilah Integral dari fungsi dibawah :"
   ]
  },
  {
   "cell_type": "code",
   "execution_count": 8,
   "id": "fc926d16",
   "metadata": {},
   "outputs": [
    {
     "data": {
      "text/latex": [
       "$\\displaystyle x^{3} - 3 x^{2} + 3 x$"
      ],
      "text/plain": [
       "x**3 - 3*x**2 + 3*x"
      ]
     },
     "execution_count": 8,
     "metadata": {},
     "output_type": "execute_result"
    }
   ],
   "source": [
    "import sympy as sy\n",
    "\n",
    "#a\n",
    "x = sy.Symbol(\"x\",real=True)\n",
    "f = 3*x**2-6*x+3\n",
    "sy.integrate(f)"
   ]
  },
  {
   "cell_type": "code",
   "execution_count": 10,
   "id": "ffaf6cea",
   "metadata": {},
   "outputs": [
    {
     "data": {
      "text/latex": [
       "$\\displaystyle 2 x^{4} - \\frac{x^{3}}{3} + \\frac{5 x^{2}}{2} - x$"
      ],
      "text/plain": [
       "2*x**4 - x**3/3 + 5*x**2/2 - x"
      ]
     },
     "execution_count": 10,
     "metadata": {},
     "output_type": "execute_result"
    }
   ],
   "source": [
    "\n",
    "#b\n",
    "x = sy.Symbol(\"x\",real=True)\n",
    "f = 8*x**3-x**2+5*x-1\n",
    "sy.integrate(f)"
   ]
  }
 ],
 "metadata": {
  "kernelspec": {
   "display_name": "Python 3 (ipykernel)",
   "language": "python",
   "name": "python3"
  },
  "language_info": {
   "codemirror_mode": {
    "name": "ipython",
    "version": 3
   },
   "file_extension": ".py",
   "mimetype": "text/x-python",
   "name": "python",
   "nbconvert_exporter": "python",
   "pygments_lexer": "ipython3",
   "version": "3.8.11"
  }
 },
 "nbformat": 4,
 "nbformat_minor": 5
}
