{
 "cells": [
  {
   "cell_type": "markdown",
   "id": "d8e90487",
   "metadata": {},
   "source": [
    "# Non-Graded Challenge 5"
   ]
  },
  {
   "cell_type": "code",
   "execution_count": 29,
   "id": "51fb720a",
   "metadata": {},
   "outputs": [],
   "source": [
    "import numpy as np"
   ]
  },
  {
   "cell_type": "markdown",
   "id": "64e725b5",
   "metadata": {},
   "source": [
    "**Soal 1. Membuat Tensor**"
   ]
  },
  {
   "cell_type": "code",
   "execution_count": 30,
   "id": "6e3f9b69",
   "metadata": {},
   "outputs": [
    {
     "name": "stdout",
     "output_type": "stream",
     "text": [
      "[[[[23 50]\n",
      "   [ 7 12]]\n",
      "\n",
      "  [[27 67]\n",
      "   [99 43]]]\n",
      "\n",
      "\n",
      " [[[75 21]\n",
      "   [57 12]]\n",
      "\n",
      "  [[87 12]\n",
      "   [18 84]]]]\n"
     ]
    }
   ],
   "source": [
    "A = np.array([\n",
    "    [[[23,50],[7,12]],[[27,67],[99,43]]],\n",
    "    [[[75,21],[57,12]],[[87,12],[18,84]]]\n",
    "])\n",
    "print(A)"
   ]
  },
  {
   "cell_type": "code",
   "execution_count": 31,
   "id": "99fa6646",
   "metadata": {},
   "outputs": [
    {
     "data": {
      "text/plain": [
       "(2, 2, 2, 2)"
      ]
     },
     "execution_count": 31,
     "metadata": {},
     "output_type": "execute_result"
    }
   ],
   "source": [
    "A.shape"
   ]
  },
  {
   "cell_type": "markdown",
   "id": "62bde826",
   "metadata": {},
   "source": [
    "**Soal 2. Perkalian Matrix**"
   ]
  },
  {
   "cell_type": "code",
   "execution_count": 35,
   "id": "bedbbd4a",
   "metadata": {},
   "outputs": [
    {
     "name": "stdout",
     "output_type": "stream",
     "text": [
      "[[ 23  50  19]\n",
      " [  7  12 109]\n",
      " [ 57  67  98]]\n",
      "[[17]\n",
      " [22]\n",
      " [19]]\n"
     ]
    }
   ],
   "source": [
    "Matrix_A = np.array([[23,50,19],\n",
    "                     [7,12,109],\n",
    "                     [57,67,98]])\n",
    "Matrix_B = np.array([[17,],\n",
    "                     [22,],\n",
    "                     [19]]) \n",
    "print(Matrix_A)\n",
    "print(Matrix_B)"
   ]
  },
  {
   "cell_type": "code",
   "execution_count": 33,
   "id": "4a44785d",
   "metadata": {},
   "outputs": [
    {
     "data": {
      "text/plain": [
       "(3, 1)"
      ]
     },
     "execution_count": 33,
     "metadata": {},
     "output_type": "execute_result"
    }
   ],
   "source": [
    "Matrix_B.shape"
   ]
  },
  {
   "cell_type": "code",
   "execution_count": 34,
   "id": "9d973e4b",
   "metadata": {},
   "outputs": [
    {
     "name": "stdout",
     "output_type": "stream",
     "text": [
      "[[1852]\n",
      " [2454]\n",
      " [4305]]\n"
     ]
    }
   ],
   "source": [
    "#Matrix A dikali Matrix B\n",
    "\n",
    "print(Matrix_A@Matrix_B)"
   ]
  },
  {
   "cell_type": "markdown",
   "id": "dc371baa",
   "metadata": {},
   "source": [
    "**Soal 3. Lakukan Transpose, hitung determinan, dan inverse terhadap matrix**"
   ]
  },
  {
   "cell_type": "code",
   "execution_count": 40,
   "id": "7dd26f36",
   "metadata": {},
   "outputs": [],
   "source": [
    "V = np.array([[23,50,19],\n",
    "              [7,12,109],\n",
    "              [57,67,98]])"
   ]
  },
  {
   "cell_type": "code",
   "execution_count": 44,
   "id": "9db48701",
   "metadata": {},
   "outputs": [
    {
     "name": "stdout",
     "output_type": "stream",
     "text": [
      "[[ 23   7  57]\n",
      " [ 50  12  67]\n",
      " [ 19 109  98]]\n"
     ]
    }
   ],
   "source": [
    "#Transpose matrix\n",
    "\n",
    "Transpose_V = V.T\n",
    "print(Transpose_V)"
   ]
  },
  {
   "cell_type": "code",
   "execution_count": 45,
   "id": "4e7f2894",
   "metadata": {},
   "outputs": [
    {
     "name": "stdout",
     "output_type": "stream",
     "text": [
      "131344.0000000002\n"
     ]
    }
   ],
   "source": [
    "#Determinan\n",
    "\n",
    "Det_V = np.linalg.det(V)\n",
    "print(Det_V)"
   ]
  },
  {
   "cell_type": "code",
   "execution_count": 46,
   "id": "0f03e801",
   "metadata": {},
   "outputs": [
    {
     "name": "stdout",
     "output_type": "stream",
     "text": [
      "[[-0.0466485  -0.02761451  0.03975819]\n",
      " [ 0.04208034  0.00891552 -0.01807467]\n",
      " [-0.00163692  0.0099662  -0.00056341]]\n"
     ]
    }
   ],
   "source": [
    "#Invers\n",
    "\n",
    "Inv_V = np.linalg.inv(V)\n",
    "print(Inv_V)"
   ]
  }
 ],
 "metadata": {
  "kernelspec": {
   "display_name": "Python 3 (ipykernel)",
   "language": "python",
   "name": "python3"
  },
  "language_info": {
   "codemirror_mode": {
    "name": "ipython",
    "version": 3
   },
   "file_extension": ".py",
   "mimetype": "text/x-python",
   "name": "python",
   "nbconvert_exporter": "python",
   "pygments_lexer": "ipython3",
   "version": "3.8.11"
  }
 },
 "nbformat": 4,
 "nbformat_minor": 5
}
