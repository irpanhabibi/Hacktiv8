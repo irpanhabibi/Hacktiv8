{
 "cells": [
  {
   "cell_type": "markdown",
   "source": [
    "# Non-Graded Challenge 9\n",
    "\n",
    "Nama : Irpan Habibi\n",
    "\n",
    "Batch : 004"
   ],
   "metadata": {}
  },
  {
   "cell_type": "markdown",
   "source": [
    "# Problem\n",
    "\n",
    "Carilah Gradient dari sebuah fungsi berikut:\n",
    "\n",
    "3𝑥+4𝑦=5\n"
   ],
   "metadata": {}
  },
  {
   "cell_type": "markdown",
   "source": [
    "# Solution"
   ],
   "metadata": {}
  },
  {
   "cell_type": "code",
   "execution_count": 12,
   "source": [
    "import sympy as sy\n",
    "\n",
    "\n",
    "#cara 1\n",
    "from sympy.tensor.array import derive_by_array\n",
    "x,y = sy.symbols('x y')\n",
    "f = 3*x + 4*y - 5\n",
    "\n",
    "print(derive_by_array(f,(x,y)))"
   ],
   "outputs": [
    {
     "output_type": "stream",
     "name": "stdout",
     "text": [
      "[3, 4]\n"
     ]
    }
   ],
   "metadata": {}
  },
  {
   "cell_type": "code",
   "execution_count": 13,
   "source": [
    "#cara 2\n",
    "x,y = sy.symbols('x y')\n",
    "f = 3*x + 4*y - 5\n",
    "\n",
    "print(sy.diff(f, x))\n",
    "print(sy.diff(f, y))"
   ],
   "outputs": [
    {
     "output_type": "stream",
     "name": "stdout",
     "text": [
      "3\n",
      "4\n"
     ]
    }
   ],
   "metadata": {}
  },
  {
   "cell_type": "markdown",
   "source": [
    "# Conclusion \n",
    "\n",
    "Maka Gradient dari fungsi 3x + 2y = 5 yaitu [3 4]"
   ],
   "metadata": {}
  }
 ],
 "metadata": {
  "orig_nbformat": 4,
  "language_info": {
   "name": "python",
   "version": "3.8.9",
   "mimetype": "text/x-python",
   "codemirror_mode": {
    "name": "ipython",
    "version": 3
   },
   "pygments_lexer": "ipython3",
   "nbconvert_exporter": "python",
   "file_extension": ".py"
  },
  "kernelspec": {
   "name": "python3",
   "display_name": "Python 3.8.9 64-bit ('NGC': venv)"
  },
  "interpreter": {
   "hash": "8e416ce989a370aafc9a5c31bb2b3f67facbd5594a9343622bd8f1f32addd54a"
  }
 },
 "nbformat": 4,
 "nbformat_minor": 2
}