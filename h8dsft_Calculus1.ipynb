{
 "cells": [
  {
   "cell_type": "markdown",
   "id": "bfc7dc7c",
   "metadata": {},
   "source": [
    "# Non-Graded Challenge 7"
   ]
  },
  {
   "cell_type": "markdown",
   "id": "8dc67323",
   "metadata": {},
   "source": [
    "**Soal No 1. Cari Turunan dari Fungsi**\n",
    "\n",
    "𝑦 = 𝑥^2 + 2𝑥 + 1\n",
    "\n",
    "𝑦 = 4𝑥^3 − 3𝑥^2 + 2𝑥 − 1\n"
   ]
  },
  {
   "cell_type": "code",
   "execution_count": 2,
   "id": "b45a67ed",
   "metadata": {},
   "outputs": [],
   "source": [
    "import sympy as sy"
   ]
  },
  {
   "cell_type": "code",
   "execution_count": 5,
   "id": "189127cf",
   "metadata": {},
   "outputs": [],
   "source": [
    "x = sy.Symbol('x',real=True)"
   ]
  },
  {
   "cell_type": "code",
   "execution_count": 6,
   "id": "101e5a91",
   "metadata": {},
   "outputs": [
    {
     "data": {
      "text/latex": [
       "$\\displaystyle 2 x + 2$"
      ],
      "text/plain": [
       "2*x + 2"
      ]
     },
     "execution_count": 6,
     "metadata": {},
     "output_type": "execute_result"
    }
   ],
   "source": [
    "#𝑦 = 𝑥^2 + 2𝑥 + 1\n",
    "f = x**2+2*x+1\n",
    "f.diff(x)"
   ]
  },
  {
   "cell_type": "code",
   "execution_count": 7,
   "id": "1f8fcd67",
   "metadata": {},
   "outputs": [
    {
     "data": {
      "text/latex": [
       "$\\displaystyle 12 x^{2} - 6 x + 2$"
      ],
      "text/plain": [
       "12*x**2 - 6*x + 2"
      ]
     },
     "execution_count": 7,
     "metadata": {},
     "output_type": "execute_result"
    }
   ],
   "source": [
    "#𝑦 = 4𝑥^3 − 3𝑥^2 + 2𝑥 − 1\n",
    "f = 4*x**3-3*x**2+2*x-1\n",
    "f.diff(x)"
   ]
  }
 ],
 "metadata": {
  "kernelspec": {
   "display_name": "Python 3 (ipykernel)",
   "language": "python",
   "name": "python3"
  },
  "language_info": {
   "codemirror_mode": {
    "name": "ipython",
    "version": 3
   },
   "file_extension": ".py",
   "mimetype": "text/x-python",
   "name": "python",
   "nbconvert_exporter": "python",
   "pygments_lexer": "ipython3",
   "version": "3.8.11"
  }
 },
 "nbformat": 4,
 "nbformat_minor": 5
}
